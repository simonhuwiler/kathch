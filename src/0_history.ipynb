{
 "cells": [
  {
   "cell_type": "markdown",
   "metadata": {},
   "source": [
    "# Scrape history"
   ]
  },
  {
   "cell_type": "code",
   "execution_count": 5,
   "metadata": {},
   "outputs": [],
   "source": [
    "import requests\n",
    "from requests_html import HTMLSession\n",
    "from urllib.parse import unquote, urlparse\n",
    "from pathlib import PurePosixPath\n",
    "import time\n",
    "import os.path\n",
    "import sys"
   ]
  },
  {
   "cell_type": "code",
   "execution_count": 21,
   "metadata": {},
   "outputs": [],
   "source": [
    "url = 'https://www.kath.ch/wp-content/themes/cathkathcatt/ajax.php?esf_showTwocolumns'\n",
    "list_folder = '../data/list'\n",
    "article_folder = '../data/article'"
   ]
  },
  {
   "cell_type": "code",
   "execution_count": 26,
   "metadata": {},
   "outputs": [],
   "source": [
    "def download_page(p):\n",
    "    # Download list\n",
    "    params = {\n",
    "        \"paged\": p,\n",
    "        \"path\": \"https://www.kath.ch/wp-content/themes/cathkathcatt\",\n",
    "        \"posttype\": \"newsd\"\n",
    "    }\n",
    "\n",
    "    session1 = HTMLSession()\n",
    "    r = session1.post(url, data=params)\n",
    "    \n",
    "    # Save to file\n",
    "    dt = time.time()\n",
    "    open(\"%s/%s.html\" % (list_folder, dt), 'w', encoding='utf-8').write(r.text)\n",
    "\n",
    "    for el in r.html.find(\".esf-content-wrapper .col-lg-6\"):\n",
    "        article_url = el.find(\"a\")[0].attrs['href']\n",
    "        name = PurePosixPath(unquote(urlparse(article_url).path)).parts[-1]\n",
    "\n",
    "        article_file_name = \"%s/%s.html\" % (article_folder, name)\n",
    "        if os.path.isfile(article_file_name) == False: \n",
    "            print(article_url)\n",
    "            session_article = HTMLSession()\n",
    "            r2 = session_article.get(article_url)\n",
    "            open(article_file_name, 'w', encoding='utf-8').write(r2.text)\n",
    "        #else:\n",
    "        #    print(\"%s already downloaded\" % name)"
   ]
  },
  {
   "cell_type": "code",
   "execution_count": 30,
   "metadata": {},
   "outputs": [
    {
     "name": "stdout",
     "output_type": "stream",
     "text": [
      "finito\n"
     ]
    }
   ],
   "source": [
    "for i in range(500, 500):\n",
    "    try:\n",
    "        download_page(i)\n",
    "    except:\n",
    "        print(\"== %s ==\" % i)\n",
    "        print(sys.exc_info()[0])\n",
    "        raise\n",
    "        \n",
    "print(\"finito\")"
   ]
  },
  {
   "cell_type": "code",
   "execution_count": null,
   "metadata": {},
   "outputs": [],
   "source": []
  },
  {
   "cell_type": "code",
   "execution_count": null,
   "metadata": {},
   "outputs": [],
   "source": []
  }
 ],
 "metadata": {
  "kernelspec": {
   "display_name": "kath_ch",
   "language": "python",
   "name": "kath_ch"
  },
  "language_info": {
   "codemirror_mode": {
    "name": "ipython",
    "version": 3
   },
   "file_extension": ".py",
   "mimetype": "text/x-python",
   "name": "python",
   "nbconvert_exporter": "python",
   "pygments_lexer": "ipython3",
   "version": "3.9.0"
  }
 },
 "nbformat": 4,
 "nbformat_minor": 4
}
