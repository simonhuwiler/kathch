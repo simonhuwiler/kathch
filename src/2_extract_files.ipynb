{
 "cells": [
  {
   "cell_type": "markdown",
   "metadata": {},
   "source": [
    "# Extract and save as JSON"
   ]
  },
  {
   "cell_type": "code",
   "execution_count": 13,
   "metadata": {},
   "outputs": [
    {
     "data": {
      "text/plain": [
       "'de_ch'"
      ]
     },
     "execution_count": 13,
     "metadata": {},
     "output_type": "execute_result"
    }
   ],
   "source": [
    "from bs4 import BeautifulSoup\n",
    "from datetime import datetime\n",
    "import glob\n",
    "import re\n",
    "import os\n",
    "import json\n",
    "import locale\n",
    "locale.setlocale(locale.LC_TIME, \"de_ch\")"
   ]
  },
  {
   "cell_type": "code",
   "execution_count": 14,
   "metadata": {},
   "outputs": [],
   "source": [
    "path_in = '../data/article/'\n",
    "path_out = '../data_cleaned/article/'"
   ]
  },
  {
   "cell_type": "code",
   "execution_count": 15,
   "metadata": {},
   "outputs": [
    {
     "name": "stdout",
     "output_type": "stream",
     "text": [
      "../data/article\\bischof-morerod-schlaegt-mit-einem-neuen-bier-zu.html\n",
      "../data/article\\gaenswein-stimme-von-benedikt-ist-schwach-aber-verstaendlich.html\n",
      "../data/article\\haartrockner-im-gotteshaus-studierende-machen-aus-der-kirche-kunst.html\n",
      "../data/article\\in-fuenf-wochen-sind-die-sternsinger-unterwegs.html\n",
      "../data/article\\inakzeptables-sing-verbot-des-bundesrates.html\n",
      "../data/article\\medizinhistoriker-warnt-vor-eugenik-bei-corona-triage.html\n",
      "../data/article\\oekumene-ist-fuer-bischoefe-keine-kuer-sondern-pflicht.html\n",
      "finito\n"
     ]
    }
   ],
   "source": [
    "def one_or_warn(selector):\n",
    "    l = soup.select(selector)\n",
    "    if(len(l) > 1):\n",
    "        print(\"More than one %s at %s\" % (selector, f))\n",
    "    if(len(l) > 0):\n",
    "        return l[0].string\n",
    "    return \"\"\n",
    "\n",
    "reg_abbr = re.compile('\\((([^)]*))\\)[^(]*$', re.IGNORECASE)\n",
    "\n",
    "records = []\n",
    "filelist = glob.glob(\"%s*.html\" % path_in)\n",
    "for f in filelist:\n",
    "    #f = '../data/article/anerkennung-meines-einsatzes-fuer-menschenrechte.html'\n",
    "    \n",
    "    # Get ID\n",
    "    id = os.path.basename(f).replace('.html', '')\n",
    "    \n",
    "    # Check if exists\n",
    "    if os.path.isfile('%s%s.json' % (path_out, id)):\n",
    "        continue\n",
    "        \n",
    "        \n",
    "    print(f)\n",
    "    \n",
    "    record = {'id': id}\n",
    "    \n",
    "    soup = BeautifulSoup(open(f, encoding='utf-8'), \"html.parser\")\n",
    "\n",
    "    # Find Tag\n",
    "    record['tag'] = one_or_warn('.esf-img-tag span')\n",
    "\n",
    "    # Find Title\n",
    "    record['title'] = one_or_warn('h1')\n",
    "\n",
    "    # Lead\n",
    "    #record['lead'] = soup.select_one('.text p strong').string\n",
    "\n",
    "    # Text\n",
    "    record['text'] = soup.select_one('.text').text\n",
    "\n",
    "    # Date\n",
    "    icon = soup.select_one('img[src=\"https://www.kath.ch/wp-content/themes/cathkathcatt/images/icon_date.png\"]')\n",
    "    if(len(icon) == None):\n",
    "        print(\"No date found at %s\" % f)\n",
    "    date_s = icon.parent.parent.select_one('.col-9').string.replace('\\n', '').strip()\n",
    "    date = date_s.split('|')[0].strip()\n",
    "    time = date_s.split('|')[1].strip()\n",
    "\n",
    "    d = datetime.strptime(\"%s %s\" % (date, time), '%d. %B %Y %H:%M')\n",
    "    record['date'] = d.strftime(\"%Y-%m-%d %H:%M\")\n",
    "\n",
    "    # Get author\n",
    "    s = soup.select('.text>p')\n",
    "    if len(s) > 2:\n",
    "        s = s[1].text\n",
    "        if(len(s.split(' ')) <= 4):\n",
    "\n",
    "            # Looks like there is an author\n",
    "            record['author'] = s.strip()\n",
    "\n",
    "        else:\n",
    "\n",
    "            # Try to guess abbrev.\n",
    "            reg = reg_abbr.search(soup.select('.text>p')[-1].text)\n",
    "            if reg:\n",
    "                record['author'] = reg.group(1).strip()\n",
    "        \n",
    "    \n",
    "    # Save to file\n",
    "    with open('%s%s.json' % (path_out, record['id']), 'w', encoding='UTF-8') as fp:    \n",
    "        json.dump(record, fp, ensure_ascii=False)\n",
    "    \n",
    "print(\"finito\")\n",
    "\n",
    "\n",
    "#record"
   ]
  },
  {
   "cell_type": "code",
   "execution_count": null,
   "metadata": {},
   "outputs": [],
   "source": []
  }
 ],
 "metadata": {
  "kernelspec": {
   "display_name": "Python 3",
   "language": "python",
   "name": "python3"
  },
  "language_info": {
   "codemirror_mode": {
    "name": "ipython",
    "version": 3
   },
   "file_extension": ".py",
   "mimetype": "text/x-python",
   "name": "python",
   "nbconvert_exporter": "python",
   "pygments_lexer": "ipython3",
   "version": "3.9.0"
  }
 },
 "nbformat": 4,
 "nbformat_minor": 4
}
