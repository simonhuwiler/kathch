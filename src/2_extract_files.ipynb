{
 "cells": [
  {
   "cell_type": "markdown",
   "metadata": {},
   "source": [
    "# Extract and save as JSON\n",
    "This file extracts all the articles (html) and create json-files."
   ]
  },
  {
   "cell_type": "code",
   "execution_count": 1,
   "metadata": {},
   "outputs": [
    {
     "data": {
      "text/plain": [
       "'de_ch'"
      ]
     },
     "execution_count": 1,
     "metadata": {},
     "output_type": "execute_result"
    }
   ],
   "source": [
    "from bs4 import BeautifulSoup\n",
    "from datetime import datetime\n",
    "import glob\n",
    "import re\n",
    "import os\n",
    "import json\n",
    "import locale\n",
    "from pathlib import Path\n",
    "locale.setlocale(locale.LC_TIME, \"de_ch\")"
   ]
  },
  {
   "cell_type": "code",
   "execution_count": 7,
   "metadata": {},
   "outputs": [],
   "source": [
    "path_in = '../data/article/'\n",
    "path_out = '../data_cleaned/article/'"
   ]
  },
  {
   "cell_type": "code",
   "execution_count": 8,
   "metadata": {},
   "outputs": [
    {
     "name": "stdout",
     "output_type": "stream",
     "text": [
      "finito\n"
     ]
    }
   ],
   "source": [
    "def one_or_warn(selector):\n",
    "    l = soup.select(selector)\n",
    "    if(len(l) > 1):\n",
    "        print(\"More than one %s at %s\" % (selector, f))\n",
    "    if(len(l) > 0):\n",
    "        return l[0].string\n",
    "    return \"\"\n",
    "\n",
    "reg_abbr = re.compile('\\((([^)]*))\\)[^(]*$', re.IGNORECASE)\n",
    "\n",
    "records = []\n",
    "filelist = glob.glob(\"%s*.html\" % path_in)\n",
    "for f in filelist:\n",
    "#if True:\n",
    "    #f = '../data/article/181-migranten-auf-lampedusa-gelandet.html'\n",
    "    \n",
    "    # Get ID\n",
    "    id = os.path.basename(f).replace('.html', '')\n",
    "    \n",
    "    # Check if exists\n",
    "    if os.path.isfile('%s%s.json' % (path_out, id)):\n",
    "        continue\n",
    "        \n",
    "    #print(f)\n",
    "    \n",
    "    record = {'id': id}\n",
    "    \n",
    "    soup = BeautifulSoup(open(f, encoding='utf-8'), \"html.parser\")\n",
    "\n",
    "    # Find Tag\n",
    "    record['tag'] = one_or_warn('.esf-img-tag span')\n",
    "    \n",
    "    # Tag 2 (Gastkommentare falsch Kategorisiert)\n",
    "    record['tag2'] = record['tag']\n",
    "    lead = soup.select_one('.text p strong')\n",
    "    if lead:\n",
    "        if any(s.lower() in lead.text.lower() for s in ['Gastbeitrag', 'Gastkommentar', 'Kommentar']):\n",
    "            record['tag2'] = 'Kommentar'\n",
    "\n",
    "    # Find Title\n",
    "    record['title'] = one_or_warn('h1')\n",
    "\n",
    "    # Lead\n",
    "    #record['lead'] = soup.select_one('.text p strong').string\n",
    "\n",
    "    # Text\n",
    "    record['text'] = soup.select_one('.text').text\n",
    "\n",
    "    # Date\n",
    "    icon = soup.select_one('img[src=\"https://www.kath.ch/wp-content/themes/cathkathcatt/images/icon_date.png\"]')\n",
    "    if(len(icon) == None):\n",
    "        print(\"No date found at %s\" % f)\n",
    "    date_s = icon.parent.parent.select_one('.col-9').string.replace('\\n', '').strip()\n",
    "    date = date_s.split('|')[0].strip()\n",
    "    time = date_s.split('|')[1].strip()\n",
    "\n",
    "    d = datetime.strptime(\"%s %s\" % (date, time), '%d. %B %Y %H:%M')\n",
    "    record['date'] = d.strftime(\"%Y-%m-%d %H:%M\")\n",
    "\n",
    "    # Get author\n",
    "    s = soup.select('.text>p')\n",
    "    #if len(s) >= 2:\n",
    "    if (len(s) > 1) and (record['tag'] != \"Zitat\"):\n",
    "        s = s[1].text\n",
    "        if((len(s) > 0) and (len(s.split(' ')) <= 6)):\n",
    "            # Looks like there is an author\n",
    "            record['author'] = s.strip()\n",
    "\n",
    "        else:\n",
    "            # Try to guess abbrev.\n",
    "            \n",
    "            # First find last Paragraph (ignore Video, emptys etc.)\n",
    "        \n",
    "            last_paragraph = None\n",
    "            paragraphs = soup.select('.text>p')\n",
    "            for i in range(len(paragraphs) - 1, 0, -1):\n",
    "                if (len(paragraphs[i].contents) > 0) and (paragraphs[i].contents[0].name == None):\n",
    "                    # Check if not empty\n",
    "                    if paragraphs[i].text.strip() != \"\":\n",
    "                        last_paragraph = paragraphs[i]\n",
    "                        break\n",
    "                \n",
    "            if last_paragraph == None:\n",
    "                print(f)\n",
    "                print(\"No Last paragraph!\")\n",
    "            else:              \n",
    "                reg = reg_abbr.search(last_paragraph.text)\n",
    "                if reg:\n",
    "                    record['author'] = reg.group(1).strip()\n",
    "\n",
    "                \n",
    "    if ('autor' in record) == False:\n",
    "        # Check, if Rauch in Lead\n",
    "        lead = soup.select_one('.text p strong')\n",
    "        if lead and ('raphael rauch' in soup.select_one('.text p strong').text.lower()):\n",
    "            record['author'] = 'Raphael Rauch'\n",
    "        \n",
    "    # Save to file\n",
    "    with open('%s%s.json' % (path_out, record['id']), 'w', encoding='UTF-8') as fp:    \n",
    "        json.dump(record, fp, ensure_ascii=False)\n",
    "        \n",
    "    \n",
    "print(\"finito\")"
   ]
  },
  {
   "cell_type": "markdown",
   "metadata": {},
   "source": [
    "## Reload files with \"Kostenpflichtig\"\n",
    "There were a few articles falsly made abo. Reload them. You dont need to do this."
   ]
  },
  {
   "cell_type": "code",
   "execution_count": 4,
   "metadata": {},
   "outputs": [],
   "source": [
    "from requests_html import HTMLSession\n",
    "\n",
    "url = 'https://www.kath.ch/wp-content/themes/cathkathcatt/ajax.php?esf_showTwocolumns'\n",
    "article_folder = '../data/article'"
   ]
  },
  {
   "cell_type": "code",
   "execution_count": 5,
   "metadata": {},
   "outputs": [],
   "source": [
    "def download_page(name):\n",
    "\n",
    "    session1 = HTMLSession()\n",
    "\n",
    "    article_file_name = \"%s/%s.html\" % (article_folder, name)\n",
    "    session_article = HTMLSession()\n",
    "    r2 = session_article.get(\"https://www.kath.ch/%s/\" % name)\n",
    "    open(article_file_name, 'w', encoding='utf-8').write(r2.text)"
   ]
  },
  {
   "cell_type": "code",
   "execution_count": 6,
   "metadata": {},
   "outputs": [
    {
     "name": "stdout",
     "output_type": "stream",
     "text": [
      "Kostenpflichtig: brasilien-plant-militaereinsatz-gegen-waldbraende\n",
      "Kostenpflichtig: briefmarke-zum-treffen-des-heiligen-franziskus-mit-dem-sultan\n",
      "Kostenpflichtig: bundeskanzlerin-merkel-auf-dem-evangelischen-kirchentag\n",
      "Kostenpflichtig: der-papst-predigt-den-aufbruch\n",
      "Kostenpflichtig: der-vatikan-sorgt-fuer-mehr-transparenz-bei-missbrauchsfaellen\n",
      "Kostenpflichtig: deutsche-bischoefe-wollen-entschaedigung-fuer-missbrauchsopfer-neu-regeln\n",
      "Kostenpflichtig: erstmals-wieder-gottesdienste-nach-anschlaegen-in-sri-lanka\n",
      "Kostenpflichtig: franziskus-karwoche-versieht-den-kampf-des-satans-mit-aktuellen-akzenten\n",
      "Kostenpflichtig: frauenfrage-verfaengt-nicht-im-vatikan\n",
      "Kostenpflichtig: gottes-gebote-sind-laut-papst-instrumente-zur-freiheit\n",
      "Kostenpflichtig: hilfswerk-fuerchtet-dramatische-covid-19-folgen-in-brasilien\n",
      "Kostenpflichtig: hongkongs-kardinal-john-tong-hon-wird-80-noch-119-papstwaehler\n",
      "Kostenpflichtig: kardinal-marx-weist-kritik-aus-rom-zurueck\n",
      "Kostenpflichtig: kardinal-woelki-uebt-heftige-kritik-an-synodalversammlung\n",
      "Kostenpflichtig: kirchen-image-leidet-unter-fall-barbarin\n",
      "Kostenpflichtig: kubanischer-kardinal-ortega-mit-82-jahren-gestorben\n",
      "Kostenpflichtig: luxus-im-dienste-des-herrn-in-den-usa-leben-manche-tv-prediger-in-saus-und-braus\n",
      "Kostenpflichtig: mehr-schutz-fuer-minderjaehrige-im-vatikan\n",
      "Kostenpflichtig: nationalversammlung-billigt-wiederaufbau-gesetz-fuer-notre-dame\n",
      "Kostenpflichtig: paepstliche-hausaufgaben-fuer-die-theologie\n",
      "Kostenpflichtig: papst-besetzt-verwaltungsposten-im-vatikanstaat-neu\n",
      "Kostenpflichtig: papst-dankt-kardinal-mueller-fuer-kommentar-zur-amazonas-synode\n",
      "Kostenpflichtig: us-bischoefe-kritisieren-trumps-nahost-plan\n",
      "Kostenpflichtig: video-von-missbrauchsfilm-darf-in-frankreich-verbreitet-werden\n",
      "Kostenpflichtig: wieder-mischt-sich-der-ex-papst-in-die-kirchenpolitik-ein\n",
      "Kostenpflichtig: zeitung-mccarrick-ueberwies-geld-an-paepste-und-hohe-geistliche\n"
     ]
    }
   ],
   "source": [
    "filelist = glob.glob(\"%s*.html\" % path_in)\n",
    "for f in filelist:\n",
    "#f = '../data/article/gaelle-may-gewinnt-mit-ihrer-karwoche-den-good-news-preis-2021.html'\n",
    "    content = open(f, encoding='utf-8')\n",
    "    if content.read().find('Der Zugriff auf diesen Beitrag ist kostenpflichtig') >= 0:\n",
    "        id = os.path.basename(f).replace('.html', '')\n",
    "        print(\"Kostenpflichtig: %s\" % id)\n",
    "        \n",
    "        # Download\n",
    "        download_page(id)\n",
    "        \n",
    "        # Delete Json\n",
    "        # Check if exists\n",
    "        cleaned = Path(path_out) / Path(id + '.json')\n",
    "        if os.path.isfile(cleaned):\n",
    "            os.remove(cleaned)\n",
    "        "
   ]
  },
  {
   "cell_type": "code",
   "execution_count": null,
   "metadata": {},
   "outputs": [],
   "source": []
  }
 ],
 "metadata": {
  "interpreter": {
   "hash": "f174ed437c2417af5d7a24b966f0d40072ad3959813db61e1e546d3c3b0e8542"
  },
  "kernelspec": {
   "display_name": "kath_ch",
   "language": "python",
   "name": "python3"
  },
  "language_info": {
   "codemirror_mode": {
    "name": "ipython",
    "version": 3
   },
   "file_extension": ".py",
   "mimetype": "text/x-python",
   "name": "python",
   "nbconvert_exporter": "python",
   "pygments_lexer": "ipython3",
   "version": "3.9.0"
  }
 },
 "nbformat": 4,
 "nbformat_minor": 4
}
