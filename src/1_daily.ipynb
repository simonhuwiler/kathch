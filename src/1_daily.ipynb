{
 "cells": [
  {
   "cell_type": "markdown",
   "metadata": {},
   "source": [
    "# Scrape daily"
   ]
  },
  {
   "cell_type": "code",
   "execution_count": null,
   "metadata": {},
   "outputs": [],
   "source": [
    "import requests\n",
    "from requests_html import HTMLSession\n",
    "from urllib.parse import unquote, urlparse\n",
    "from pathlib import PurePosixPath\n",
    "import time\n",
    "import os.path\n",
    "import git"
   ]
  },
  {
   "cell_type": "code",
   "execution_count": null,
   "metadata": {},
   "outputs": [],
   "source": [
    "url = 'https://www.kath.ch/wp-content/themes/cathkathcatt/ajax.php?esf_showTwocolumns'\n",
    "list_folder = '../data/list'\n",
    "article_folder = '../data/article'\n",
    "path_git = '/data/python/kathch_scraper'"
   ]
  },
  {
   "cell_type": "code",
   "execution_count": null,
   "metadata": {},
   "outputs": [],
   "source": [
    "def download_page(p):\n",
    "    # Download list\n",
    "    params = {\n",
    "        \"paged\": p,\n",
    "        \"path\": \"https://www.kath.ch/wp-content/themes/cathkathcatt\",\n",
    "        \"posttype\": \"newsd\"\n",
    "    }\n",
    "\n",
    "    session1 = HTMLSession()\n",
    "    r = session1.post(url, data=params)\n",
    "\n",
    "    # Save to file\n",
    "    open(\"%s/%s.html\" % (list_folder, time.time()), 'w', encoding='utf-8').write(r.text)\n",
    "    \n",
    "    for el in r.html.find(\".esf-content-wrapper .col-lg-6\"):\n",
    "        article_url = el.find(\".esf-fullwidth a\")[0].attrs['href']\n",
    "        name = PurePosixPath(unquote(urlparse(article_url).path)).parts[-1]\n",
    "        print(article_url)\n",
    "\n",
    "        article_file_name = \"%s/%s.html\" % (article_folder, name)\n",
    "        if os.path.isfile(article_file_name) == False: \n",
    "            session_article = HTMLSession()\n",
    "            r2 = session_article.get(article_url)\n",
    "            open(article_file_name, 'w', encoding='utf-8').write(r2.text)\n",
    "        else:\n",
    "            print(\"%s already downloaded\" % name)"
   ]
  },
  {
   "cell_type": "code",
   "execution_count": null,
   "metadata": {},
   "outputs": [],
   "source": [
    "# Fetch Git\n",
    "repo = git.Repo(path_git)\n",
    "repo.git.pull()"
   ]
  },
  {
   "cell_type": "code",
   "execution_count": null,
   "metadata": {
    "scrolled": false
   },
   "outputs": [],
   "source": [
    "for i in range(1, 3):\n",
    "    download_page(i)"
   ]
  },
  {
   "cell_type": "code",
   "execution_count": null,
   "metadata": {},
   "outputs": [],
   "source": [
    "repo.git.add(path_git)\n",
    "if repo.git.diff(None, cached=True) != \"\":\n",
    "    repo.git.commit('-m', 'auto-sync', author='webmaster@simonhuwiler.ch')\n",
    "    repo.git.push()\n",
    "else:\n",
    "    print(\"Nothing changed\")"
   ]
  },
  {
   "cell_type": "code",
   "execution_count": null,
   "metadata": {},
   "outputs": [],
   "source": [
    "print(\"Finito\")"
   ]
  },
  {
   "cell_type": "code",
   "execution_count": null,
   "metadata": {},
   "outputs": [],
   "source": []
  }
 ],
 "metadata": {
  "kernelspec": {
   "display_name": "kath_ch",
   "language": "python",
   "name": "kath_ch"
  },
  "language_info": {
   "codemirror_mode": {
    "name": "ipython",
    "version": 3
   },
   "file_extension": ".py",
   "mimetype": "text/x-python",
   "name": "python",
   "nbconvert_exporter": "python",
   "pygments_lexer": "ipython3",
   "version": "3.9.0"
  }
 },
 "nbformat": 4,
 "nbformat_minor": 4
}
